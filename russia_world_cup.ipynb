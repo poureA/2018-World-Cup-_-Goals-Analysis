{
 "cells": [
  {
   "cell_type": "code",
   "execution_count": 15,
   "metadata": {},
   "outputs": [],
   "source": [
    "with open('F:\\\\datasets\\\\goals.txt','r') as base :\n",
    "    file = base.readlines()"
   ]
  },
  {
   "cell_type": "code",
   "execution_count": 16,
   "metadata": {},
   "outputs": [],
   "source": [
    "file_list = list()\n",
    "for i in file :\n",
    "    val = i.split(';')\n",
    "    file_list.append(val)"
   ]
  },
  {
   "cell_type": "code",
   "execution_count": 17,
   "metadata": {},
   "outputs": [
    {
     "data": {
      "text/html": [
       "<div>\n",
       "<style scoped>\n",
       "    .dataframe tbody tr th:only-of-type {\n",
       "        vertical-align: middle;\n",
       "    }\n",
       "\n",
       "    .dataframe tbody tr th {\n",
       "        vertical-align: top;\n",
       "    }\n",
       "\n",
       "    .dataframe thead th {\n",
       "        text-align: right;\n",
       "    }\n",
       "</style>\n",
       "<table border=\"1\" class=\"dataframe\">\n",
       "  <thead>\n",
       "    <tr style=\"text-align: right;\">\n",
       "      <th></th>\n",
       "      <th>player</th>\n",
       "      <th>team</th>\n",
       "      <th>minute</th>\n",
       "    </tr>\n",
       "  </thead>\n",
       "  <tbody>\n",
       "    <tr>\n",
       "      <th>164</th>\n",
       "      <td>Griezmann</td>\n",
       "      <td>France</td>\n",
       "      <td>38</td>\n",
       "    </tr>\n",
       "    <tr>\n",
       "      <th>155</th>\n",
       "      <td>Kramaric</td>\n",
       "      <td>Croatia</td>\n",
       "      <td>39</td>\n",
       "    </tr>\n",
       "    <tr>\n",
       "      <th>37</th>\n",
       "      <td>Jedinak</td>\n",
       "      <td>Australia</td>\n",
       "      <td>38</td>\n",
       "    </tr>\n",
       "    <tr>\n",
       "      <th>108</th>\n",
       "      <td>Kagawa</td>\n",
       "      <td>Japan</td>\n",
       "      <td>6</td>\n",
       "    </tr>\n",
       "    <tr>\n",
       "      <th>16</th>\n",
       "      <td>Salah</td>\n",
       "      <td>Egypt</td>\n",
       "      <td>22</td>\n",
       "    </tr>\n",
       "    <tr>\n",
       "      <th>74</th>\n",
       "      <td>Hernandez</td>\n",
       "      <td>Mexico</td>\n",
       "      <td>66</td>\n",
       "    </tr>\n",
       "    <tr>\n",
       "      <th>57</th>\n",
       "      <td>Coutinho</td>\n",
       "      <td>Brazil</td>\n",
       "      <td>20</td>\n",
       "    </tr>\n",
       "    <tr>\n",
       "      <th>85</th>\n",
       "      <td>Lukaku</td>\n",
       "      <td>Belgium</td>\n",
       "      <td>75</td>\n",
       "    </tr>\n",
       "    <tr>\n",
       "      <th>152</th>\n",
       "      <td>Alli</td>\n",
       "      <td>England</td>\n",
       "      <td>59</td>\n",
       "    </tr>\n",
       "    <tr>\n",
       "      <th>42</th>\n",
       "      <td>Finnbogason</td>\n",
       "      <td>Iceland</td>\n",
       "      <td>23</td>\n",
       "    </tr>\n",
       "  </tbody>\n",
       "</table>\n",
       "</div>"
      ],
      "text/plain": [
       "          player       team minute\n",
       "164    Griezmann     France     38\n",
       "155     Kramaric    Croatia     39\n",
       "37       Jedinak  Australia     38\n",
       "108       Kagawa      Japan      6\n",
       "16         Salah      Egypt     22\n",
       "74     Hernandez     Mexico     66\n",
       "57      Coutinho     Brazil     20\n",
       "85        Lukaku    Belgium     75\n",
       "152         Alli    England     59\n",
       "42   Finnbogason    Iceland     23"
      ]
     },
     "execution_count": 17,
     "metadata": {},
     "output_type": "execute_result"
    }
   ],
   "source": [
    "import pandas as pd \n",
    "df = pd.DataFrame(file_list,columns=['player','team','minute','none'])\n",
    "df = df.drop(['none'],axis=1)\n",
    "df.sample(10)"
   ]
  },
  {
   "cell_type": "code",
   "execution_count": 18,
   "metadata": {},
   "outputs": [
    {
     "data": {
      "text/plain": [
       "169"
      ]
     },
     "execution_count": 18,
     "metadata": {},
     "output_type": "execute_result"
    }
   ],
   "source": [
    "#how many goals scores in this cup ?\n",
    "len(df['player'])"
   ]
  },
  {
   "cell_type": "code",
   "execution_count": 19,
   "metadata": {},
   "outputs": [
    {
     "data": {
      "text/plain": [
       "113"
      ]
     },
     "execution_count": 19,
     "metadata": {},
     "output_type": "execute_result"
    }
   ],
   "source": [
    "#how many different players scores ?\n",
    "len(set(df['player'].to_list()))"
   ]
  },
  {
   "cell_type": "code",
   "execution_count": 20,
   "metadata": {},
   "outputs": [
    {
     "data": {
      "text/plain": [
       "33"
      ]
     },
     "execution_count": 20,
     "metadata": {},
     "output_type": "execute_result"
    }
   ],
   "source": [
    "#how many different national teams scores ?\n",
    "len(set(df['team'].to_list()))"
   ]
  },
  {
   "cell_type": "code",
   "execution_count": 21,
   "metadata": {},
   "outputs": [
    {
     "data": {
      "text/plain": [
       "{'Argentia',\n",
       " 'Argentina',\n",
       " 'Australia',\n",
       " 'Belgium',\n",
       " 'Brazil',\n",
       " 'Colombia',\n",
       " 'Costa Rica',\n",
       " 'Croatia',\n",
       " 'Denmark',\n",
       " 'Egypt',\n",
       " 'England',\n",
       " 'France',\n",
       " 'Germany',\n",
       " 'Iceland',\n",
       " 'Iran',\n",
       " 'Japan',\n",
       " 'Mexico',\n",
       " 'Morocco',\n",
       " 'Nigeria',\n",
       " 'Panama',\n",
       " 'Peru',\n",
       " 'Poland',\n",
       " 'Portugal',\n",
       " 'Russia',\n",
       " 'Saudi Arabia',\n",
       " 'Senegal',\n",
       " 'Serbia',\n",
       " 'South Korea',\n",
       " 'Spain',\n",
       " 'Sweden',\n",
       " 'Switzerland',\n",
       " 'Tunisia',\n",
       " 'Uruguay'}"
      ]
     },
     "execution_count": 21,
     "metadata": {},
     "output_type": "execute_result"
    }
   ],
   "source": [
    "#its actually 32 teams and 33 is because of spelling mistake between 'Argentia' and 'Argentina' so all teams scored in the cup\n",
    "set(sorted(df['team'].to_list()))"
   ]
  },
  {
   "cell_type": "code",
   "execution_count": 22,
   "metadata": {},
   "outputs": [
    {
     "data": {
      "text/plain": [
       "OG           11\n",
       "Kane          6\n",
       "Lukaku        4\n",
       "Griezmann     4\n",
       "Cheryshev     4\n",
       "             ..\n",
       "Mitrovic      1\n",
       "Zuber         1\n",
       "Kolarov       1\n",
       "Badelj        1\n",
       "Pogba         1\n",
       "Name: player, Length: 113, dtype: int64"
      ]
     },
     "execution_count": 22,
     "metadata": {},
     "output_type": "execute_result"
    }
   ],
   "source": [
    "#most goals scores by own goal by 11 goals\n",
    "player_list = df['player'].value_counts(ascending=False)\n",
    "player_list"
   ]
  },
  {
   "cell_type": "code",
   "execution_count": 23,
   "metadata": {},
   "outputs": [
    {
     "name": "stdout",
     "output_type": "stream",
     "text": [
      "Kane by 6 goals\n"
     ]
    }
   ],
   "source": [
    "#player who scores most goals in cup\n",
    "top_scorers = list()\n",
    "for player in df['player']:\n",
    "    if df['player'].to_list().count(player)==player_list[1]:\n",
    "       top_scorers.append(player) \n",
    "for i in list(set(top_scorers)):\n",
    "    goals_count = top_scorers.count(i)\n",
    "    print(f\"{i} by {goals_count} goals\")"
   ]
  },
  {
   "cell_type": "code",
   "execution_count": 24,
   "metadata": {},
   "outputs": [
    {
     "name": "stdout",
     "output_type": "stream",
     "text": [
      "Belgium by 16 goals\n"
     ]
    }
   ],
   "source": [
    "#which national team scores most goals\n",
    "team_list = df['team'].value_counts(ascending=False)\n",
    "scores_lst = list()\n",
    "for team in df['team'] :\n",
    "    if df['team'].to_list().count(team) == team_list[0]: \n",
    "        scores_lst.append(team)\n",
    "for i in list(set(scores_lst)) :\n",
    "    goals_count = scores_lst.count(i)\n",
    "    print(f\"{i} by {goals_count} goals\")"
   ]
  },
  {
   "cell_type": "code",
   "execution_count": 25,
   "metadata": {},
   "outputs": [
    {
     "data": {
      "text/plain": [
       "51    7\n",
       "93    6\n",
       "91    5\n",
       "59    5\n",
       "62    5\n",
       "     ..\n",
       "45    1\n",
       "26    1\n",
       "97    1\n",
       "20    1\n",
       "28    1\n",
       "Name: minute, Length: 81, dtype: int64"
      ]
     },
     "execution_count": 25,
     "metadata": {},
     "output_type": "execute_result"
    }
   ],
   "source": [
    "#most goals scores at 51 minute\n",
    "minute_counts = df['minute'].value_counts(ascending=False)\n",
    "minute_counts"
   ]
  },
  {
   "cell_type": "code",
   "execution_count": 26,
   "metadata": {},
   "outputs": [
    {
     "data": {
      "image/png": "[encoded data removed]",
      "text/plain": [
       "<Figure size 1080x720 with 1 Axes>"
      ]
     },
     "metadata": {
      "needs_background": "light"
     },
     "output_type": "display_data"
    }
   ],
   "source": [
    "#lets have a look by a plot\n",
    "import matplotlib.pyplot as plt \n",
    "goals_count = list()\n",
    "int_minutes = list()\n",
    "for m in df['minute'] :\n",
    "    val = df['minute'].to_list().count(m)\n",
    "    goals_count.append(val)\n",
    "    val = int(m)\n",
    "    int_minutes.append(val)\n",
    "goals_int = list()\n",
    "for i in range(len(int_minutes)) :\n",
    "    val = (int_minutes[i],goals_count[i])\n",
    "    goals_int.append(val)\n",
    "ready = sorted(list(set(goals_int)))\n",
    "minutes = [i[0] for i in ready]\n",
    "goals = [i[1] for i in ready]\n",
    "plt.figure(figsize=(15,10))\n",
    "plt.plot(minutes,goals)\n",
    "plt.xlabel('minute')\n",
    "plt.ylabel('number of scores')\n",
    "plt.show()"
   ]
  },
  {
   "cell_type": "code",
   "execution_count": 28,
   "metadata": {},
   "outputs": [
    {
     "name": "stdout",
     "output_type": "stream",
     "text": [
      "equal ! \n",
      "first half goals = 36 , second half goals = 36 , firts extra goals = 7 , second extra goals = 2\n"
     ]
    }
   ],
   "source": [
    "#how many goals scores in first and second half time\n",
    "first_half = 0\n",
    "second_half = 0\n",
    "first_extra_time = 0\n",
    "second_extra_time = 0\n",
    "for i in ready :\n",
    "    if i[0]<=45 :\n",
    "        first_half+=1\n",
    "    elif 45<i[0]<=90 :\n",
    "        second_half+=1\n",
    "    elif 90<i[0]<=105 :\n",
    "        first_extra_time+=1\n",
    "    else :\n",
    "        second_extra_time+=1\n",
    "if first_half == second_half :\n",
    "    print(f'equal ! \\nfirst half goals = {first_half} , second half goals = {second_half} , firts extra goals = {first_extra_time} , second extra goals = {second_extra_time}')\n",
    "elif first_half > second_half :\n",
    "    print(f'most goals scores at first half time\\nfirst half goals = {first_half} , second half goals = {second_half} , firts extra goals = {first_extra_time} , second extra goals = {second_extra_time}')\n",
    "else :\n",
    "    print(f'most goals scores at second half time\\n first half goals = {first_half} , second half goals = {second_half} , firts extra goals = {first_extra_time} , second extra goals = {second_extra_time}')"
   ]
  },
  {
   "cell_type": "code",
   "execution_count": null,
   "metadata": {},
   "outputs": [],
   "source": []
  }
 ],
 "metadata": {
  "colab": {
   "provenance": []
  },
  "kernelspec": {
   "display_name": "Python 3 (ipykernel)",
   "language": "python",
   "name": "python3"
  },
  "language_info": {
   "codemirror_mode": {
    "name": "ipython",
    "version": 3
   },
   "file_extension": ".py",
   "mimetype": "text/x-python",
   "name": "python",
   "nbconvert_exporter": "python",
   "pygments_lexer": "ipython3",
   "version": "3.9.7"
  }
 },
 "nbformat": 4,
 "nbformat_minor": 1
}
